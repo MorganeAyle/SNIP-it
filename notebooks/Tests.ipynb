{
 "cells": [
  {
   "cell_type": "code",
   "execution_count": null,
   "metadata": {
    "scrolled": true
   },
   "outputs": [],
   "source": [
    "import os\n",
    "os.chdir('/nfs/homedirs/ayle/guided-research/SNIP-it/')"
   ]
  },
  {
   "cell_type": "code",
   "execution_count": null,
   "metadata": {
    "scrolled": true
   },
   "outputs": [],
   "source": [
    "import torch\n",
    "from torchvision import datasets, transforms\n",
    "import foolbox as fb\n",
    "from experiments.main import load_checkpoint\n",
    "from models import GeneralModel\n",
    "from models.statistics.Metrics import Metrics\n",
    "from utils.config_utils import *\n",
    "from utils.model_utils import *\n",
    "from utils.system_utils import *\n",
    "from utils.attacks_utils import get_attack\n",
    "from torch.utils.data.dataset import Dataset"
   ]
  },
  {
   "cell_type": "code",
   "execution_count": null,
   "metadata": {
    "scrolled": true
   },
   "outputs": [],
   "source": [
    "arguments = dict({\n",
    "'eval_freq': 1000,  # evaluate every n batches\n",
    "    'save_freq': 1e6,  # save model every n epochs, besides before and after training\n",
    "    'batch_size': 64,  # size of batches, for Imagenette 128\n",
    "    'seed': 1234,  # random seed\n",
    "    'max_training_minutes': 6120 , # one hour and a 45 minutes max, process killed after n minutes (after finish of epoch)\n",
    "    'plot_weights_freq': 50, # plot pictures to tensorboard every n epochs\n",
    "    'prune_freq': 1, # if pruning during training: how long to wait before starting\n",
    "    'prune_delay': 0, # \"if pruning during training: 't' from algorithm box, interval between pruning events, default=0\n",
    "    'prune_to': 5,\n",
    "    'epochs': 80,\n",
    "    'rewind_to': 0, # rewind to this epoch if rewinding is done\n",
    "    'snip_steps': 5, # 's' in algorithm box, number of pruning steps for 'rule of thumb', TODO\n",
    "    'pruning_rate': 0.0 , # pruning rate passed to criterion at pruning event. however, most override this\n",
    "    'growing_rate': 0.0000 , # grow back so much every epoch (for future criterions)\n",
    "    'pruning_limit': 0.80,  # Prune until here, if structured in nodes, if unstructured in weights. most criterions use this instead of the pruning_rate\n",
    "    'local_pruning': 1,\n",
    "    'learning_rate': 2e-3,\n",
    "    'grad_clip': 10,\n",
    "    'grad_noise': 0 , # added gaussian noise to gradients\n",
    "    'l2_reg': 5e-5 , # weight decay\n",
    "    'l1_reg': 0 , # l1-norm regularisation\n",
    "    'lp_reg': 0 , # lp regularisation with p < 1\n",
    "    'l0_reg': 1.0 , # l0 reg lambda hyperparam\n",
    "    'hoyer_reg': 0.001 , # hoyer reg lambda hyperparam\n",
    "    'beta_ema': 0.999 , # l0 reg beta ema hyperparam\n",
    "\n",
    "    'loss': 'CrossEntropy',\n",
    "    'optimizer': 'ADAM',\n",
    "    'model': 'LeNet5',  # ResNet not supported with structured\n",
    "    'data_set': 'FASHION',\n",
    "    'ood_data_set': 'MNIST',\n",
    "    'ood_data_set_prune': 'MNIST',\n",
    "    'prune_criterion': 'EmptyCrit',  # options: SNIP, SNIPit, SNIPitDuring, UnstructuredRandom, GRASP, HoyerSquare, IMP, // SNAPit, StructuredRandom, GateDecorators, EfficientConvNets, GroupHoyerSquare\n",
    "    'train_scheme': 'DefaultTrainer' , # default: DefaultTrainer\n",
    "    'attack': 'FGSM',\n",
    "    'epsilon': 12,\n",
    "    'eval_ood_data_sets': ['OMNIGLOT', 'MNIST', 'KMNIST', 'INV_OMNIGLOT'],\n",
    "    'eval_attacks': ['FGSM', 'L2FGSM'],\n",
    "    'eval_epsilons': [4, 6, 12, 24, 48],\n",
    "\n",
    "    'device': 'cuda',\n",
    "    'results_dir': \"LeNet5\",\n",
    "\n",
    "    'checkpoint_name': '2021-06-15_17.54.25_model=LeNet5_dataset=FASHION_prune-criterion=EmptyCrit_pruning-limit=0.0_prune-freq=1_prune-delay=0_outer-layer-pruning=1_prune-to=5_rewind-to=0_train-scheme=DefaultTrainer_seed=1234',\n",
    "    'checkpoint_model': 'LeNet5_finished',\n",
    "\n",
    "    'disable_cuda_benchmark': 1 , # speedup (disable) vs reproducibility (leave it)\n",
    "    'eval': 0,\n",
    "    'disable_autoconfig': 0 , # for the brave\n",
    "    'preload_all_data': 0 , # load all data into ram memory for speedups\n",
    "    'tuning': 0 , # splits trainset into train and validationset, omits test set\n",
    "\n",
    "    'get_hooks': 0,\n",
    "    'track_weights': 0 , # \"keep statistics on the weights through training\n",
    "    'disable_masking': 1 , # disable the ability to prune unstructured\n",
    "    'enable_rewinding': 0 , # enable the ability to rewind to previous weights\n",
    "    'outer_layer_pruning': 0, # allow to prune outer layers (unstructured) or not (structured)\n",
    "    'first_layer_dense': 0,\n",
    "    'random_shuffle_labels': 0  ,# run with random-label experiment from zhang et al\n",
    "    'l0': 0,  # run with l0 criterion, might overwrite some other arguments\n",
    "    'hoyer_square': 0, # \"run in unstructured DeephoyerSquare criterion, might overwrite some other arguments\n",
    "    'group_hoyer_square': 0 ,# run in unstructured Group-DeephoyerSquare criterion, might overwrite some other arguments\n",
    "\n",
    "    'disable_histograms': 0,\n",
    "    'disable_saliency': 0,\n",
    "    'disable_confusion': 0,\n",
    "    'disable_weightplot': 0,\n",
    "    'disable_netplot': 0,\n",
    "    'skip_first_plot': 0,\n",
    "    'disable_activations': 0,\n",
    "    \n",
    "    'input_dim': [1, 28, 28],\n",
    "      'output_dim': 10,\n",
    "      'hidden_dim': [512],\n",
    "      'N': 60000,\n",
    "    \n",
    "#     'input_dim': [3, 32, 32],\n",
    "#       'output_dim': 10,\n",
    "#       'hidden_dim': [512],\n",
    "#       'N': 60000\n",
    "})"
   ]
  },
  {
   "cell_type": "code",
   "execution_count": null,
   "metadata": {
    "scrolled": true
   },
   "outputs": [],
   "source": [
    "DATASET_PATH = '/nfs/homedirs/ayle/guided-research/SNIP-it/gitignored/data'"
   ]
  },
  {
   "cell_type": "code",
   "execution_count": null,
   "metadata": {
    "scrolled": true
   },
   "outputs": [],
   "source": [
    "metrics = Metrics()\n",
    "out = metrics.log_line\n",
    "metrics._batch_size = arguments['batch_size']\n",
    "metrics._eval_freq = arguments['eval_freq']\n",
    "set_results_dir(arguments[\"results_dir\"])"
   ]
  },
  {
   "cell_type": "code",
   "execution_count": null,
   "metadata": {
    "scrolled": true
   },
   "outputs": [],
   "source": [
    "model: GeneralModel = find_right_model(\n",
    "        NETWORKS_DIR, arguments['model'],\n",
    "        device=arguments['device'],\n",
    "        hidden_dim=arguments['hidden_dim'],\n",
    "        input_dim=arguments['input_dim'],\n",
    "        output_dim=arguments['output_dim'],\n",
    "        is_maskable=arguments['disable_masking'],\n",
    "        is_tracking_weights=arguments['track_weights'],\n",
    "        is_rewindable=arguments['enable_rewinding'],\n",
    "        is_growable=arguments['growing_rate'] > 0,\n",
    "        outer_layer_pruning=arguments['outer_layer_pruning'],\n",
    "        maintain_outer_mask_anyway=(\n",
    "                                       not arguments['outer_layer_pruning']) and (\n",
    "                                           \"Structured\" in arguments['prune_criterion']),\n",
    "        l0=arguments['l0'],\n",
    "        l0_reg=arguments['l0_reg'],\n",
    "        N=arguments['N'],\n",
    "        beta_ema=arguments['beta_ema'],\n",
    "        l2_reg=arguments['l2_reg']\n",
    ").to(arguments['device'])"
   ]
  },
  {
   "cell_type": "code",
   "execution_count": null,
   "metadata": {
    "scrolled": true
   },
   "outputs": [],
   "source": [
    "load_checkpoint(arguments, model, out)"
   ]
  },
  {
   "cell_type": "code",
   "execution_count": null,
   "metadata": {
    "scrolled": true
   },
   "outputs": [],
   "source": [
    "device = arguments['device']"
   ]
  },
  {
   "cell_type": "code",
   "execution_count": null,
   "metadata": {
    "scrolled": true
   },
   "outputs": [],
   "source": [
    "# get criterion\n",
    "criterion = find_right_model(\n",
    "    CRITERION_DIR, arguments['prune_criterion'],\n",
    "    model=model,\n",
    "    limit=arguments['pruning_limit'],\n",
    "    start=0.5,\n",
    "    steps=arguments['snip_steps'],\n",
    "    device=arguments['device'],\n",
    "    arguments=arguments\n",
    ")\n",
    "\n",
    "# load data\n",
    "train_loader, test_loader = find_right_model(\n",
    "    DATASETS, arguments['data_set'],\n",
    "    arguments=arguments\n",
    ")\n",
    "\n",
    "# load OOD data\n",
    "_, ood_loader = find_right_model(\n",
    "    DATASETS, arguments['ood_data_set'],\n",
    "    arguments=arguments\n",
    ")\n",
    "\n",
    "# load OOD data\n",
    "_, ood_prune_loader = find_right_model(\n",
    "    DATASETS, arguments['ood_data_set_prune'],\n",
    "    arguments=arguments\n",
    ")\n",
    "\n",
    "# get loss function\n",
    "loss = find_right_model(\n",
    "    LOSS_DIR, arguments['loss'],\n",
    "    device=device,\n",
    "    l1_reg=arguments['l1_reg'],\n",
    "    lp_reg=arguments['lp_reg'],\n",
    "    l0_reg=arguments['l0_reg'],\n",
    "    hoyer_reg=arguments['hoyer_reg']\n",
    ")\n",
    "\n",
    "# get optimizer\n",
    "optimizer = find_right_model(\n",
    "    OPTIMS, arguments['optimizer'],\n",
    "    params=model.parameters(),\n",
    "    lr=arguments['learning_rate'],\n",
    "    weight_decay=arguments['l2_reg'] if not arguments['l0'] else 0\n",
    ")\n",
    "\n",
    "# run_name = f'_model={arguments[\"model\"]}_dataset={arguments[\"data_set\"]}_ood-dataset={arguments[\"ood_data_set\"]}' + \\\n",
    "#            f'_attack={arguments[\"attack\"]}_epsilon={arguments[\"epsilon\"]}_prune-criterion={arguments[\"prune_criterion\"]}' + \\\n",
    "#            f'_pruning-limit={arguments[\"pruning_limit\"]}_prune-freq={arguments[\"prune_freq\"]}_prune-delay={arguments[\"prune_delay\"]}' + \\\n",
    "#            f'_rewind-to={arguments[\"rewind_to\"]}_train-scheme={arguments[\"train_scheme\"]}_seed={arguments[\"seed\"]}'\n",
    "\n",
    "\n",
    "# # build trainer\n",
    "# trainer = find_right_model(\n",
    "#     TRAINERS_DIR, arguments['train_scheme'],\n",
    "#     model=model,\n",
    "#     loss=loss,\n",
    "#     optimizer=optimizer,\n",
    "#     device=device,\n",
    "#     arguments=arguments,\n",
    "#     train_loader=train_loader,\n",
    "#     test_loader=test_loader,\n",
    "#     ood_loader=ood_loader,\n",
    "#     ood_prune_loader=ood_prune_loader,\n",
    "#     metrics=metrics,\n",
    "#     criterion=criterion,\n",
    "#     run_name=run_name\n",
    "# )\n",
    "\n",
    "# trainer.train()"
   ]
  },
  {
   "cell_type": "code",
   "execution_count": null,
   "metadata": {},
   "outputs": [],
   "source": [
    "results = {}"
   ]
  },
  {
   "cell_type": "code",
   "execution_count": null,
   "metadata": {},
   "outputs": [],
   "source": [
    "results = {'train_acc': trainer.train_acc, 'test_acc': trainer.test_acc, 'sparsity': trainer.sparsity,\n",
    "               'filename': DATA_MANAGER.stamp}"
   ]
  },
  {
   "cell_type": "code",
   "execution_count": null,
   "metadata": {},
   "outputs": [],
   "source": [
    "model.eval()"
   ]
  },
  {
   "cell_type": "code",
   "execution_count": null,
   "metadata": {},
   "outputs": [],
   "source": [
    "for attack in arguments['eval_attacks']:\n",
    "    for epsilon in arguments['eval_epsilons']:\n",
    "        out(\"Attack {}\".format(attack))\n",
    "        # build tester\n",
    "        tester = find_right_model(\n",
    "            TESTERS_DIR, 'AdversarialEvaluation',\n",
    "            attack=attack,\n",
    "#             model=trainer._model,\n",
    "            model = model,\n",
    "            device=device,\n",
    "            arguments=None,\n",
    "            test_loader=test_loader,\n",
    "        )\n",
    "\n",
    "        out(\"Epsilon {}\".format(str(epsilon)))\n",
    "        res = tester.evaluate(epsilon=epsilon)\n",
    "\n",
    "        for key, value in res.items():\n",
    "            results[key] = value"
   ]
  },
  {
   "cell_type": "code",
   "execution_count": null,
   "metadata": {},
   "outputs": [],
   "source": [
    "with torch.no_grad():\n",
    "    for ood_data_set in arguments['eval_ood_data_sets']:\n",
    "        out(\"OOD Dataset: {}\".format(ood_data_set))\n",
    "        # load data\n",
    "        _, test_loader = find_right_model(\n",
    "            DATASETS, arguments['data_set'],\n",
    "            arguments=arguments\n",
    "        )\n",
    "\n",
    "        # load OOD data\n",
    "        _, ood_loader = find_right_model(\n",
    "            DATASETS, ood_data_set,\n",
    "            arguments=arguments\n",
    "        )\n",
    "        # build tester\n",
    "        tester = find_right_model(\n",
    "            TESTERS_DIR, 'OODEvaluation',\n",
    "#             model=trainer._model,\n",
    "            model = model,\n",
    "            device=device,\n",
    "            arguments=None,\n",
    "            test_loader=test_loader,\n",
    "            ood_loader=ood_loader,\n",
    "            ood_dataset=ood_data_set\n",
    "        )\n",
    "        res = tester.evaluate()\n",
    "\n",
    "        for key, value in res.items():\n",
    "            results[key] = value\n",
    "            "
   ]
  },
  {
   "cell_type": "code",
   "execution_count": null,
   "metadata": {
    "scrolled": true
   },
   "outputs": [],
   "source": [
    "class DS(Dataset):\n",
    "\n",
    "    def __init__(self, images, labels):\n",
    "        self.images = images\n",
    "        self.labels = labels\n",
    "        self.mean = [0.485, 0.456, 0.406]  # avg 0.449\n",
    "        self.std = [0.229, 0.224, 0.225]  # avg 0.226\n",
    "        self.transforms = transforms.Compose(\n",
    "            [\n",
    "                transforms.ToTensor(),\n",
    "                transforms.Normalize(mean=self.mean, std=self.std)\n",
    "            ]\n",
    "        )\n",
    "\n",
    "    def __getitem__(self, item):\n",
    "        image = self.images[item] / 255\n",
    "        image = self.transforms(image.transpose((1, 2, 0)))\n",
    "        return image.to(torch.float32), torch.tensor(self.labels[item], dtype=torch.float32)\n",
    "\n",
    "    def __len__(self):\n",
    "        return len(self.images)\n",
    "\n",
    "with torch.no_grad():\n",
    "    if arguments[\"data_set\"] == \"CIFAR10\":\n",
    "        ds_path = os.path.join(DATASET_PATH, \"cifar10_corrupted\")\n",
    "        for ds_dataset_name in os.listdir(ds_path):\n",
    "            npz_dataset = np.load(os.path.join(ds_path, ds_dataset_name))\n",
    "\n",
    "            ds_dataset = DS(npz_dataset[\"images\"], npz_dataset[\"labels\"])\n",
    "            ds_loader = torch.utils.data.DataLoader(\n",
    "                ds_dataset,\n",
    "                batch_size=arguments['batch_size'],\n",
    "                shuffle=False,\n",
    "                pin_memory=True,\n",
    "                num_workers=4\n",
    "            )\n",
    "\n",
    "            # build tester\n",
    "            tester = find_right_model(\n",
    "                TESTERS_DIR, 'DSEvaluation',\n",
    "                model=trainer._model,\n",
    "                device=device,\n",
    "                arguments=None,\n",
    "                test_loader=test_loader,\n",
    "                ds_loader=ds_loader,\n",
    "                ds_dataset=ds_dataset_name.split('.')[0]\n",
    "            )\n",
    "            res = tester.evaluate()\n",
    "\n",
    "            for key, value in res.items():\n",
    "                results[key] = value\n",
    "\n",
    "            break"
   ]
  },
  {
   "cell_type": "code",
   "execution_count": null,
   "metadata": {},
   "outputs": [],
   "source": [
    "results"
   ]
  },
  {
   "cell_type": "code",
   "execution_count": null,
   "metadata": {},
   "outputs": [],
   "source": []
  }
 ],
 "metadata": {
  "kernelspec": {
   "display_name": "Python 3",
   "language": "python",
   "name": "python3"
  },
  "language_info": {
   "codemirror_mode": {
    "name": "ipython",
    "version": 3
   },
   "file_extension": ".py",
   "mimetype": "text/x-python",
   "name": "python",
   "nbconvert_exporter": "python",
   "pygments_lexer": "ipython3",
   "version": "3.8.5"
  }
 },
 "nbformat": 4,
 "nbformat_minor": 4
}
