{
 "cells": [
  {
   "cell_type": "code",
   "execution_count": 1,
   "metadata": {},
   "outputs": [],
   "source": [
    "import os\n",
    "os.chdir(\"/nfs/homedirs/ayle/guided-research/SNIP-it/glow\")"
   ]
  },
  {
   "cell_type": "code",
   "execution_count": 2,
   "metadata": {},
   "outputs": [],
   "source": [
    "from tqdm import tqdm\n",
    "import numpy as np\n",
    "from PIL import Image\n",
    "from math import log, sqrt, pi\n",
    "\n",
    "import argparse\n",
    "\n",
    "import torch\n",
    "from torch import nn, optim\n",
    "from torch.autograd import Variable, grad\n",
    "from torch.utils.data import DataLoader\n",
    "from torchvision import datasets, transforms, utils\n",
    "\n",
    "from model import Glow\n",
    "from glow.Johnit import Johnit\n",
    "from glow.SNIPit import SNIPit\n",
    "from glow.SNIP import SNIP\n",
    "from glow.criterions.StructuredEFGit import StructuredEFGit\n",
    "from glow.criterions.SNAP import SNAP\n",
    "from glow.train import get_celeba_loaders\n",
    "\n",
    "from copy import deepcopy\n",
    "from utils.metrics import calculate_aupr, calculate_auroc"
   ]
  },
  {
   "cell_type": "code",
   "execution_count": 3,
   "metadata": {},
   "outputs": [],
   "source": [
    "device = torch.device(\"cuda\" if torch.cuda.is_available() else \"cpu\")\n",
    "\n",
    "batch = 32\n",
    "n_flow = 32\n",
    "n_block = 4\n",
    "no_lu = False\n",
    "affine = False\n",
    "n_bits = 5\n",
    "lr = 1e-5\n",
    "img_size = 32\n",
    "channels = 3\n",
    "temp = 0.7\n",
    "n_sample = 20\n",
    "iterations = 1000\n",
    "\n",
    "pruning_limit = 0.3\n",
    "local_pruning = False"
   ]
  },
  {
   "cell_type": "code",
   "execution_count": 4,
   "metadata": {},
   "outputs": [],
   "source": [
    "def sample_data(path, batch_size, image_size):\n",
    "    transform = transforms.Compose(\n",
    "        [\n",
    "            transforms.Resize(image_size),\n",
    "            transforms.CenterCrop(image_size),\n",
    "            transforms.RandomHorizontalFlip(),\n",
    "            transforms.ToTensor(),\n",
    "        ]\n",
    "    )\n",
    "\n",
    "    dataset = datasets.ImageFolder(path, transform=transform)\n",
    "    loader = DataLoader(dataset, shuffle=True, batch_size=batch_size, num_workers=4)\n",
    "    loader = iter(loader)\n",
    "\n",
    "    while True:\n",
    "        try:\n",
    "            yield next(loader)\n",
    "\n",
    "        except StopIteration:\n",
    "            loader = DataLoader(\n",
    "                dataset, shuffle=True, batch_size=batch_size, num_workers=4\n",
    "            )\n",
    "            loader = iter(loader)\n",
    "            yield next(loader)\n",
    "\n",
    "\n",
    "def calc_z_shapes(n_channel, input_size, n_flow, n_block):\n",
    "    z_shapes = []\n",
    "\n",
    "    for i in range(n_block - 1):\n",
    "        input_size //= 2\n",
    "        n_channel *= 2\n",
    "\n",
    "        z_shapes.append((n_channel, input_size, input_size))\n",
    "\n",
    "    input_size //= 2\n",
    "    z_shapes.append((n_channel * 4, input_size, input_size))\n",
    "\n",
    "    return z_shapes\n",
    "\n",
    "\n",
    "def calc_loss(log_p, logdet, image_size, n_bins, channels):\n",
    "    # log_p = calc_log_p([z_list])\n",
    "    n_pixel = image_size * image_size * channels\n",
    "\n",
    "    loss = -log(n_bins) * n_pixel\n",
    "    loss = loss + logdet + log_p\n",
    "\n",
    "    return (\n",
    "        (-loss / (log(2) * n_pixel)).mean(),\n",
    "        (log_p / (log(2) * n_pixel)).mean(),\n",
    "        (logdet / (log(2) * n_pixel)).mean(),\n",
    "    )"
   ]
  },
  {
   "cell_type": "code",
   "execution_count": 37,
   "metadata": {},
   "outputs": [
    {
     "data": {
      "text/plain": [
       "<All keys matched successfully>"
      ]
     },
     "execution_count": 37,
     "metadata": {},
     "output_type": "execute_result"
    }
   ],
   "source": [
    "model_single = Glow(\n",
    "    channels, n_flow, n_block, affine=affine, conv_lu=not no_lu\n",
    ")\n",
    "model = nn.DataParallel(model_single)\n",
    "model = model.to(device)\n",
    "\n",
    "# model.load_state_dict(torch.load(\"checkpoint/model_dataset=CELEBA_criterion=Johnit_sparsity=0.5_local=True.pt\"))\n",
    "model.load_state_dict(torch.load(\"/nfs/students/ayle/guided-research/glow/checkpoints/model_dataset=train_criterion=EmptyCrit_sparsity=0.0_local=False.pt\"))"
   ]
  },
  {
   "cell_type": "code",
   "execution_count": 6,
   "metadata": {},
   "outputs": [],
   "source": [
    "backup_model = deepcopy(model)"
   ]
  },
  {
   "cell_type": "code",
   "execution_count": 39,
   "metadata": {},
   "outputs": [
    {
     "name": "stdout",
     "output_type": "stream",
     "text": [
      "Files already downloaded and verified\n"
     ]
    }
   ],
   "source": [
    "# CELEBA \n",
    "# dataset = iter(get_celeba_loaders('/nfs/students/ayle/guided-research/', batch, img_size))\n",
    "# len_dataset = len(datasets.CelebA(\n",
    "#             '/nfs/students/ayle/guided-research/',\n",
    "#             split='train',\n",
    "#             download=True\n",
    "#         ))\n",
    "\n",
    "# CIFAR10\n",
    "transform = transforms.Compose(\n",
    "        [\n",
    "            transforms.Resize(img_size),\n",
    "            transforms.CenterCrop(img_size),\n",
    "            transforms.RandomHorizontalFlip(),\n",
    "            transforms.ToTensor(),\n",
    "        ]\n",
    "    )\n",
    "path  =\"/nfs/students/ayle/guided-research/CIFAR-10-images/train\"\n",
    "dataset = datasets.ImageFolder(path, transform=transform)\n",
    "loader = DataLoader(dataset, shuffle=True, batch_size=batch, num_workers=4)\n",
    "dataset = iter(loader)\n",
    "\n",
    "# compute scores\n",
    "n_bins = 2.0 ** n_bits\n",
    "\n",
    "criterion = SNIP(limit=pruning_limit, model=model.module, generative=True, nbins=n_bins, img_size=img_size, channels=channels, loss_f=calc_loss)\n",
    "criterion.prune(pruning_limit, train_loader=get_celeba_loaders('/nfs/students/ayle/guided-research/', batch, img_size), local=local_pruning)"
   ]
  },
  {
   "cell_type": "code",
   "execution_count": 40,
   "metadata": {},
   "outputs": [],
   "source": [
    "orig_grads = criterion.grads_abs"
   ]
  },
  {
   "cell_type": "code",
   "execution_count": 41,
   "metadata": {},
   "outputs": [],
   "source": [
    "# backup_model = deepcopy(model)"
   ]
  },
  {
   "cell_type": "code",
   "execution_count": 42,
   "metadata": {},
   "outputs": [],
   "source": [
    "batch = 1"
   ]
  },
  {
   "cell_type": "code",
   "execution_count": 44,
   "metadata": {},
   "outputs": [
    {
     "name": "stdout",
     "output_type": "stream",
     "text": [
      "Files already downloaded and verified\n"
     ]
    },
    {
     "name": "stderr",
     "output_type": "stream",
     "text": [
      "  1%|          | 100/19962 [02:37<8:41:59,  1.58s/it]\n"
     ]
    }
   ],
   "source": [
    "# CIFAR10\n",
    "transform = transforms.Compose(\n",
    "        [\n",
    "            transforms.Resize(img_size),\n",
    "            transforms.CenterCrop(img_size),\n",
    "            transforms.ToTensor(),\n",
    "        ]\n",
    "    )\n",
    "path  =\"/nfs/students/ayle/guided-research/CIFAR-10-images/test\"\n",
    "dataset = datasets.ImageFolder(path, transform=transform)\n",
    "dataset = DataLoader(dataset, shuffle=True, batch_size=batch, num_workers=4)\n",
    "\n",
    "# CELEBA test set\n",
    "test_transform = transforms.Compose(\n",
    "        [\n",
    "            transforms.Resize(img_size),\n",
    "            transforms.CenterCrop(img_size),\n",
    "            transforms.ToTensor(),\n",
    "        ]\n",
    "    )\n",
    "test_set = datasets.CelebA(\n",
    "    '/nfs/students/ayle/guided-research/',\n",
    "    split='test',\n",
    "    download=True,\n",
    "    transform=test_transform\n",
    ")\n",
    "dataset = DataLoader(test_set, shuffle=False, batch_size=batch, num_workers=4)\n",
    "\n",
    "# compute scores\n",
    "n_bins = 2.0 ** n_bits\n",
    "\n",
    "norms = []\n",
    "for i, (x, y) in enumerate(tqdm(dataset)):\n",
    "    if i == 100:\n",
    "        break\n",
    "    model = deepcopy(backup_model)\n",
    "    \n",
    "    model.eval()\n",
    "    \n",
    "    criterion = SNIP(limit=pruning_limit, model=model.module, generative=True, nbins=n_bins, img_size=img_size, channels=channels, loss_f=calc_loss)\n",
    "    criterion.prune(pruning_limit, train_loader=[(x, y)], local=local_pruning)\n",
    "    \n",
    "    layer_norms = []\n",
    "    for grad1, grad2 in zip(orig_grads.values(), criterion.grads_abs.values()):\n",
    "        layer_norms.append(torch.norm(grad1 - grad2, p=5).cpu().numpy())\n",
    "    norms.append(np.mean(layer_norms))"
   ]
  },
  {
   "cell_type": "code",
   "execution_count": 45,
   "metadata": {},
   "outputs": [
    {
     "name": "stdout",
     "output_type": "stream",
     "text": [
      "Using downloaded and verified file: /nfs/homedirs/ayle/guided-research/SNIP-it/gitignored/data/test_32x32.mat\n"
     ]
    },
    {
     "name": "stderr",
     "output_type": "stream",
     "text": [
      "  0%|          | 100/26032 [02:14<9:37:09,  1.34s/it]Traceback (most recent call last):\n",
      "  File \"/nfs/homedirs/ayle/miniconda3/envs/gr/lib/python3.8/multiprocessing/queues.py\", line 245, in _feed\n",
      "    send_bytes(obj)\n",
      "  File \"/nfs/homedirs/ayle/miniconda3/envs/gr/lib/python3.8/multiprocessing/connection.py\", line 200, in send_bytes\n",
      "    self._send_bytes(m[offset:offset + size])\n",
      "  File \"/nfs/homedirs/ayle/miniconda3/envs/gr/lib/python3.8/multiprocessing/connection.py\", line 411, in _send_bytes\n",
      "    self._send(header + buf)\n",
      "  File \"/nfs/homedirs/ayle/miniconda3/envs/gr/lib/python3.8/multiprocessing/connection.py\", line 368, in _send\n",
      "    n = write(self._handle, buf)\n",
      "BrokenPipeError: [Errno 32] Broken pipe\n",
      "  0%|          | 100/26032 [02:14<9:42:47,  1.35s/it]\n"
     ]
    }
   ],
   "source": [
    "# SVHN data loader\n",
    "transformers = transforms.Compose([transforms.ToTensor()\n",
    "                                  ])\n",
    "ood_test_set = datasets.SVHN(\n",
    "        '/nfs/homedirs/ayle/guided-research/SNIP-it/gitignored/data',\n",
    "        split='test',\n",
    "        download=True,\n",
    "        transform=transformers\n",
    "    )\n",
    "ood_dataset = torch.utils.data.DataLoader(\n",
    "        ood_test_set,\n",
    "        batch_size=batch,\n",
    "        shuffle=False,\n",
    "        pin_memory=True,\n",
    "        num_workers=4\n",
    "    )\n",
    "\n",
    "ood_norms = []\n",
    "for i, (x, y) in enumerate(tqdm(ood_dataset)):\n",
    "    if i == 100:\n",
    "        break\n",
    "    \n",
    "    model.eval()\n",
    "    \n",
    "    criterion = SNIP(limit=pruning_limit, model=model.module, generative=True, nbins=n_bins, img_size=img_size, channels=channels, loss_f=calc_loss)\n",
    "    criterion.prune(pruning_limit, train_loader=[(x, y)], local=local_pruning)\n",
    "    \n",
    "    layer_norms = []\n",
    "    for grad1, grad2 in zip(orig_grads.values(), criterion.grads_abs.values()):\n",
    "        layer_norms.append(torch.norm(grad1 - grad2, p=5).cpu().numpy())\n",
    "    ood_norms.append(np.mean(layer_norms))"
   ]
  },
  {
   "cell_type": "code",
   "execution_count": 46,
   "metadata": {},
   "outputs": [
    {
     "data": {
      "text/plain": [
       "0.019479753"
      ]
     },
     "execution_count": 46,
     "metadata": {},
     "output_type": "execute_result"
    }
   ],
   "source": [
    "np.mean(norms)"
   ]
  },
  {
   "cell_type": "code",
   "execution_count": 48,
   "metadata": {},
   "outputs": [],
   "source": [
    "norms = np.array(norms)\n",
    "ood_norms = np.array(ood_norms)"
   ]
  },
  {
   "cell_type": "code",
   "execution_count": 49,
   "metadata": {},
   "outputs": [
    {
     "data": {
      "text/plain": [
       "0.8903"
      ]
     },
     "execution_count": 49,
     "metadata": {},
     "output_type": "execute_result"
    }
   ],
   "source": [
    "calculate_auroc(np.concatenate((np.zeros_like(norms), np.ones_like(ood_norms))), np.concatenate((norms, ood_norms)))"
   ]
  },
  {
   "cell_type": "code",
   "execution_count": null,
   "metadata": {},
   "outputs": [],
   "source": []
  }
 ],
 "metadata": {
  "kernelspec": {
   "display_name": "Python 3",
   "language": "python",
   "name": "python3"
  },
  "language_info": {
   "codemirror_mode": {
    "name": "ipython",
    "version": 3
   },
   "file_extension": ".py",
   "mimetype": "text/x-python",
   "name": "python",
   "nbconvert_exporter": "python",
   "pygments_lexer": "ipython3",
   "version": "3.8.5"
  }
 },
 "nbformat": 4,
 "nbformat_minor": 4
}
