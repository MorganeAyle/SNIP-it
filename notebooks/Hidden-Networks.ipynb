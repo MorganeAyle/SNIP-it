{
 "cells": [
  {
   "cell_type": "code",
   "execution_count": null,
   "metadata": {},
   "outputs": [],
   "source": [
    "import os\n",
    "os.chdir('/nfs/homedirs/ayle/guided-research/SNIP-it/hidden-networks')\n",
    "import sys\n",
    "sys.path.append('/nfs/homedirs/ayle/guided-research/SNIP-it')"
   ]
  },
  {
   "cell_type": "code",
   "execution_count": null,
   "metadata": {},
   "outputs": [],
   "source": [
    "# !python main.py --config configs/smallscale/conv6/conv6_kn_unsigned.yml \\\n",
    "#                --multigpu 0 \\\n",
    "#                --name example \\\n",
    "#                --data /nfs/homedirs/ayle/guided-research/SNIP-it/gitignored/data \\\n",
    "#                --prune-rate 0.5"
   ]
  },
  {
   "cell_type": "code",
   "execution_count": null,
   "metadata": {},
   "outputs": [],
   "source": [
    "!python test.py --config configs/smallscale/conv6/conv6_kn_unsigned.yml \\\n",
    "               --multigpu 0 \\\n",
    "               --name example \\\n",
    "               --data /nfs/homedirs/ayle/guided-research/SNIP-it/gitignored/data \\\n",
    "               --prune-rate 0.5 \\\n",
    "                --pretrained '/nfs/homedirs/ayle/guided-research/SNIP-it/hidden-networks/runs/conv6_kn_unsigned/example/prune_rate=0.5/0/checkpoints/model_best.pth'"
   ]
  },
  {
   "cell_type": "code",
   "execution_count": null,
   "metadata": {},
   "outputs": [],
   "source": [
    "path = '/nfs/homedirs/ayle/guided-research/SNIP-it/hidden-networks/runs/conv6_kn_unsigned/example/prune_rate=0.5/0/checkpoints/model_best.pth'"
   ]
  }
 ],
 "metadata": {
  "kernelspec": {
   "display_name": "Python 3",
   "language": "python",
   "name": "python3"
  },
  "language_info": {
   "codemirror_mode": {
    "name": "ipython",
    "version": 3
   },
   "file_extension": ".py",
   "mimetype": "text/x-python",
   "name": "python",
   "nbconvert_exporter": "python",
   "pygments_lexer": "ipython3",
   "version": "3.8.5"
  }
 },
 "nbformat": 4,
 "nbformat_minor": 4
}
