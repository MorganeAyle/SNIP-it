{
 "cells": [
  {
   "cell_type": "code",
   "execution_count": null,
   "metadata": {},
   "outputs": [],
   "source": [
    "!pip install tensorflow"
   ]
  },
  {
   "cell_type": "code",
   "execution_count": null,
   "metadata": {},
   "outputs": [],
   "source": [
    "import tensorflow_datasets as tfds\n",
    "import numpy as np"
   ]
  },
  {
   "cell_type": "code",
   "execution_count": null,
   "metadata": {},
   "outputs": [],
   "source": [
    "# corruption_types = tfds.image_classification.cifar10_corrupted.BENCHMARK_CORRUPTIONS\n",
    "corruption_types = tfds.image_classification.cifar10_corrupted.EXTRA_CORRUPTIONS"
   ]
  },
  {
   "cell_type": "code",
   "execution_count": null,
   "metadata": {},
   "outputs": [],
   "source": [
    "corruption_types"
   ]
  },
  {
   "cell_type": "code",
   "execution_count": null,
   "metadata": {},
   "outputs": [],
   "source": [
    "severities = [1,2,3,4,5]"
   ]
  },
  {
   "cell_type": "code",
   "execution_count": null,
   "metadata": {},
   "outputs": [],
   "source": [
    "for corr in corruption_types:\n",
    "    for severity in severities:\n",
    "        cifar_builder = tfds.builder(f'cifar10_corrupted/{corr}_{severity}',)\n",
    "        cifar_builder.download_and_prepare(download_dir=\"/nfs/students/ayle/tensorflow_datasets\")\n",
    "        ds = cifar_builder.as_dataset(split=\"test\")\n",
    "        all_iter = list(ds.as_numpy_iterator())\n",
    "        data_stack = np.stack([x['image'] for x in all_iter])\n",
    "        label_stack = np.stack([x['label'] for x in all_iter])\n",
    "        np.savez_compressed(f'/nfs/students/ayle/guided-research/gitignored/data/cifar10_corrupted/{corr}_{severity}.npz', \n",
    "                           images= data_stack.transpose((0,3,1,2)),\n",
    "                            labels= label_stack\n",
    "                           )"
   ]
  },
  {
   "cell_type": "code",
   "execution_count": null,
   "metadata": {},
   "outputs": [],
   "source": []
  },
  {
   "cell_type": "code",
   "execution_count": null,
   "metadata": {},
   "outputs": [],
   "source": [
    "dataset = np.load('/nfs/homedirs/ayle/guided-research/SNIP-it/gitignored/data/cifar10_corrupted/gaussian_noise_1.npz')"
   ]
  },
  {
   "cell_type": "code",
   "execution_count": null,
   "metadata": {},
   "outputs": [],
   "source": [
    "dataset['labels'].shape"
   ]
  }
 ],
 "metadata": {
  "kernelspec": {
   "display_name": "Python 3",
   "language": "python",
   "name": "python3"
  },
  "language_info": {
   "codemirror_mode": {
    "name": "ipython",
    "version": 3
   },
   "file_extension": ".py",
   "mimetype": "text/x-python",
   "name": "python",
   "nbconvert_exporter": "python",
   "pygments_lexer": "ipython3",
   "version": "3.8.5"
  }
 },
 "nbformat": 4,
 "nbformat_minor": 4
}
