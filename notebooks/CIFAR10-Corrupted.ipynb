{
 "cells": [
  {
   "cell_type": "code",
   "execution_count": 23,
   "metadata": {},
   "outputs": [],
   "source": [
    "import tensorflow_datasets as tfds\n",
    "import numpy as np"
   ]
  },
  {
   "cell_type": "code",
   "execution_count": 24,
   "metadata": {},
   "outputs": [],
   "source": [
    "corruption_types = tfds.image_classification.cifar10_corrupted.BENCHMARK_CORRUPTIONS"
   ]
  },
  {
   "cell_type": "code",
   "execution_count": 25,
   "metadata": {},
   "outputs": [],
   "source": [
    "# corruption_types = [\n",
    "#  'defocus_blur',\n",
    "#  'frosted_glass_blur',\n",
    "#  'motion_blur',\n",
    "#  'zoom_blur',\n",
    "#  'snow',\n",
    "#  'frost',\n",
    "#  'fog',\n",
    "#  'brightness',\n",
    "#  'contrast',\n",
    "#  'elastic',\n",
    "#  'pixelate',\n",
    "#  'jpeg_compression']"
   ]
  },
  {
   "cell_type": "code",
   "execution_count": 26,
   "metadata": {},
   "outputs": [],
   "source": [
    "severities = [1,2,3,4,5]"
   ]
  },
  {
   "cell_type": "code",
   "execution_count": 27,
   "metadata": {},
   "outputs": [],
   "source": [
    "for corr in corruption_types:\n",
    "    for severity in severities:\n",
    "        cifar_builder = tfds.builder(f'cifar10_corrupted/{corr}_{severity}',)\n",
    "        cifar_builder.download_and_prepare(download_dir=\"/nfs/students/ayle/tensorflow_datasets\")\n",
    "        ds = cifar_builder.as_dataset(split=\"test\")\n",
    "        all_iter = list(ds.as_numpy_iterator())\n",
    "        data_stack = np.stack([x['image'] for x in all_iter])\n",
    "        label_stack = np.stack([x['label'] for x in all_iter])\n",
    "        np.savez_compressed(f'/nfs/homedirs/ayle/guided-research/SNIP-it/gitignored/data/cifar10_corrupted/{corr}_{severity}.npz', \n",
    "                           images= data_stack.transpose((0,3,1,2)),\n",
    "                            labels= label_stack\n",
    "                           )"
   ]
  },
  {
   "cell_type": "code",
   "execution_count": null,
   "metadata": {},
   "outputs": [],
   "source": []
  },
  {
   "cell_type": "code",
   "execution_count": 28,
   "metadata": {},
   "outputs": [],
   "source": [
    "dataset = np.load('/nfs/homedirs/ayle/guided-research/SNIP-it/gitignored/data/cifar10_corrupted/gaussian_noise_1.npz')"
   ]
  },
  {
   "cell_type": "code",
   "execution_count": 29,
   "metadata": {},
   "outputs": [
    {
     "data": {
      "text/plain": [
       "(10000,)"
      ]
     },
     "execution_count": 29,
     "metadata": {},
     "output_type": "execute_result"
    }
   ],
   "source": [
    "dataset['labels'].shape"
   ]
  }
 ],
 "metadata": {
  "kernelspec": {
   "display_name": "Python 3",
   "language": "python",
   "name": "python3"
  },
  "language_info": {
   "codemirror_mode": {
    "name": "ipython",
    "version": 3
   },
   "file_extension": ".py",
   "mimetype": "text/x-python",
   "name": "python",
   "nbconvert_exporter": "python",
   "pygments_lexer": "ipython3",
   "version": "3.8.5"
  }
 },
 "nbformat": 4,
 "nbformat_minor": 4
}
