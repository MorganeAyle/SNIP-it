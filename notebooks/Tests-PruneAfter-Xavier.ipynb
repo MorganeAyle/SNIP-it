{
 "cells": [
  {
   "cell_type": "code",
   "execution_count": null,
   "metadata": {
    "scrolled": true
   },
   "outputs": [],
   "source": [
    "import os\n",
    "os.chdir('/nfs/homedirs/ayle/guided-research/SNIP-it/')"
   ]
  },
  {
   "cell_type": "code",
   "execution_count": null,
   "metadata": {
    "scrolled": true
   },
   "outputs": [],
   "source": [
    "import torch\n",
    "from torchvision import datasets, transforms\n",
    "import foolbox as fb\n",
    "from experiments.main import load_checkpoint\n",
    "from models import GeneralModel\n",
    "from models.statistics.Metrics import Metrics\n",
    "from utils.config_utils import *\n",
    "from utils.model_utils import *\n",
    "from utils.system_utils import *\n",
    "from utils.attacks_utils import get_attack\n",
    "from torch.utils.data.dataset import Dataset\n",
    "from copy import deepcopy\n",
    "from lipEstimation.lipschitz_utils import compute_module_input_sizes\n",
    "from lipEstimation.lipschitz_approximations import lipschitz_spectral_ub"
   ]
  },
  {
   "cell_type": "code",
   "execution_count": null,
   "metadata": {
    "scrolled": true
   },
   "outputs": [],
   "source": [
    "arguments = dict({\n",
    "'eval_freq': 1000,  # evaluate every n batches\n",
    "    'save_freq': 1e6,  # save model every n epochs, besides before and after training\n",
    "    'batch_size': 512,  # size of batches, for Imagenette 128\n",
    "    'seed': 1234,  # random seed\n",
    "    'max_training_minutes': 6120 , # one hour and a 45 minutes max, process killed after n minutes (after finish of epoch)\n",
    "    'plot_weights_freq': 50, # plot pictures to tensorboard every n epochs\n",
    "    'prune_freq': 1, # if pruning during training: how long to wait before starting\n",
    "    'prune_delay': 0, # \"if pruning during training: 't' from algorithm box, interval between pruning events, default=0\n",
    "    'prune_to': 0,\n",
    "    'epochs': 0,\n",
    "    'rewind_to': 0, # rewind to this epoch if rewinding is done\n",
    "    'snip_steps': 5, # 's' in algorithm box, number of pruning steps for 'rule of thumb', TODO\n",
    "    'snip_iter': 5,\n",
    "    'pruning_rate': 0.0, # pruning rate passed to criterion at pruning event. however, most override this\n",
    "    'growing_rate': 0.0000 , # grow back so much every epoch (for future criterions)\n",
    "    'pruning_limit': 0.50,  # Prune until here, if structured in nodes, if unstructured in weights. most criterions use this instead of the pruning_rate\n",
    "    'local_pruning': 0,\n",
    "    'learning_rate': 2e-3,\n",
    "    'grad_clip': 10,\n",
    "    'grad_noise': 0 , # added gaussian noise to gradients\n",
    "    'l2_reg': 5e-5 , # weight decay\n",
    "    'l1_reg': 0 , # l1-norm regularisation\n",
    "    'lp_reg': 0 , # lp regularisation with p < 1\n",
    "    'l0_reg': 1.0 , # l0 reg lambda hyperparam\n",
    "    'hoyer_reg': 0.001 , # hoyer reg lambda hyperparam\n",
    "    'beta_ema': 0.999 , # l0 reg beta ema hyperparam\n",
    "\n",
    "    'loss': 'CrossEntropy',\n",
    "    'optimizer': 'ADAM',\n",
    "    'model': 'ResNet18',  # ResNet not supported with structured\n",
    "    'data_set': 'CIFAR10',\n",
    "    'ood_data_set': 'SVHN',\n",
    "    'ood_data_set_prune': 'SVHN',\n",
    "    'prune_criterion': 'HYDRAOOD',  # options: SNIP, SNIPit, SNIPitDuring, UnstructuredRandom, GRASP, HoyerSquare, IMP, // SNAPit, StructuredRandom, GateDecorators, EfficientConvNets, GroupHoyerSquare\n",
    "    'train_scheme': 'DefaultTrainer' , # default: DefaultTrainer\n",
    "    'attack': 'FGSM',\n",
    "    'epsilon': 8,\n",
    "    'eval_ood_data_sets': ['SVHN', 'CIFAR100'],\n",
    "    'eval_attacks': ['FGSM'],\n",
    "    'eval_epsilons': [8],\n",
    "\n",
    "    'device': 'cuda',\n",
    "    'results_dir': \"tmp\",\n",
    "\n",
    "    'checkpoint_name': None,\n",
    "    'checkpoint_model': None,\n",
    "\n",
    "    'disable_cuda_benchmark': 1 , # speedup (disable) vs reproducibility (leave it)\n",
    "    'eval': 0,\n",
    "    'disable_autoconfig': 0 , # for the brave\n",
    "    'preload_all_data': 0 , # load all data into ram memory for speedups\n",
    "    'tuning': 0 , # splits trainset into train and validationset, omits test set\n",
    "\n",
    "    'get_hooks': 0,\n",
    "    'track_weights': 0 , # \"keep statistics on the weights through training\n",
    "    'disable_masking': 1 , # disable the ability to prune unstructured\n",
    "    'enable_rewinding': 0, # enable the ability to rewind to previous weights\n",
    "    'outer_layer_pruning': 1, # allow to prune outer layers (unstructured) or not (structured)\n",
    "    'first_layer_dense': 0,\n",
    "    'random_shuffle_labels': 0  ,# run with random-label experiment from zhang et al\n",
    "    'l0': 0,  # run with l0 criterion, might overwrite some other arguments\n",
    "    'hoyer_square': 0, # \"run in unstructured DeephoyerSquare criterion, might overwrite some other arguments\n",
    "    'group_hoyer_square': 0 ,# run in unstructured Group-DeephoyerSquare criterion, might overwrite some other arguments\n",
    "\n",
    "    'disable_histograms': 0,\n",
    "    'disable_saliency': 0,\n",
    "    'disable_confusion': 0,\n",
    "    'disable_weightplot': 0,\n",
    "    'disable_netplot': 0,\n",
    "    'skip_first_plot': 0,\n",
    "    'disable_activations': 0,\n",
    "    \n",
    "#     'input_dim': [1, 28, 28],\n",
    "#       'output_dim': 10,\n",
    "#       'hidden_dim': [512],\n",
    "#       'N': 60000,\n",
    "    \n",
    "    'input_dim': [3, 32, 32],\n",
    "      'output_dim': 10,\n",
    "      'hidden_dim': [512],\n",
    "      'N': 60000\n",
    "})"
   ]
  },
  {
   "cell_type": "code",
   "execution_count": null,
   "metadata": {
    "scrolled": true
   },
   "outputs": [],
   "source": [
    "DATASET_PATH = '/nfs/students/ayle/guided-research/gitignored/data'"
   ]
  },
  {
   "cell_type": "code",
   "execution_count": null,
   "metadata": {
    "scrolled": true
   },
   "outputs": [],
   "source": [
    "metrics = Metrics()\n",
    "out = metrics.log_line\n",
    "metrics._batch_size = arguments['batch_size']\n",
    "metrics._eval_freq = arguments['eval_freq']\n",
    "set_results_dir(arguments[\"results_dir\"])"
   ]
  },
  {
   "cell_type": "code",
   "execution_count": null,
   "metadata": {
    "scrolled": true
   },
   "outputs": [],
   "source": [
    "model: GeneralModel = find_right_model(\n",
    "        NETWORKS_DIR, arguments['model'],\n",
    "        device=arguments['device'],\n",
    "        hidden_dim=arguments['hidden_dim'],\n",
    "        input_dim=arguments['input_dim'],\n",
    "        output_dim=arguments['output_dim'],\n",
    "        is_maskable=arguments['disable_masking'],\n",
    "        is_tracking_weights=arguments['track_weights'],\n",
    "        is_rewindable=arguments['enable_rewinding'],\n",
    "        is_growable=arguments['growing_rate'] > 0,\n",
    "        outer_layer_pruning=arguments['outer_layer_pruning'],\n",
    "        maintain_outer_mask_anyway=(\n",
    "                                       not arguments['outer_layer_pruning']) and (\n",
    "                                           \"Structured\" in arguments['prune_criterion']),\n",
    "        l0=arguments['l0'],\n",
    "        l0_reg=arguments['l0_reg'],\n",
    "        N=arguments['N'],\n",
    "        beta_ema=arguments['beta_ema'],\n",
    "        l2_reg=arguments['l2_reg']\n",
    ").to(arguments['device'])"
   ]
  },
  {
   "cell_type": "code",
   "execution_count": null,
   "metadata": {
    "scrolled": true
   },
   "outputs": [],
   "source": [
    "load_checkpoint(arguments, model, out)"
   ]
  },
  {
   "cell_type": "code",
   "execution_count": null,
   "metadata": {},
   "outputs": [],
   "source": [
    "def load_checkpoint(path, model, out):\n",
    "    with open(path, 'rb') as f:\n",
    "        state = pickle.load(f)\n",
    "    try:\n",
    "        model.load_state_dict(state)\n",
    "    except KeyError as e:\n",
    "        print(list(state.keys()))\n",
    "        raise e\n",
    "    out(f\"Loaded checkpoint {path}\")"
   ]
  },
  {
   "cell_type": "code",
   "execution_count": null,
   "metadata": {},
   "outputs": [],
   "source": [
    "# path = '/nfs/students/ayle/guided-research/results/Conv6/2021-07-12_03.45.39_model=Conv6_dataset=CIFAR10_prune-criterion=EmptyCrit_pruning-limit=0.0_prune-freq=1_prune-delay=0_outer-layer-pruning=1_prune-to=10_rewind-to=0_train-scheme=DefaultTrainer_seed=1234/models/Conv6_finished.pickle'\n",
    "# path = '/nfs/students/ayle/guided-research/results/Conv6/2021-07-12_04.48.17_model=Conv6_dataset=CIFAR10_prune-criterion=EmptyCrit_pruning-limit=0.0_prune-freq=1_prune-delay=0_outer-layer-pruning=1_prune-to=10_rewind-to=0_train-scheme=DefaultTrainer_seed=2345/models/Conv6_finished.pickle'\n",
    "# path = '/nfs/students/ayle/guided-research/results/Conv6/2021-07-15_19.21.19_model=Conv6_dataset=CIFAR10_prune-criterion=EmptyCrit_pruning-limit=0.0_prune-freq=1_prune-delay=0_outer-layer-pruning=1_prune-to=10_rewind-to=0_train-scheme=DefaultTrainer_seed=3456/models/Conv6_finished.pickle'\n",
    "# path = '/nfs/students/ayle/guided-research/results/Conv6/2021-07-15_19.25.40_model=Conv6_dataset=CIFAR10_prune-criterion=EmptyCrit_pruning-limit=0.0_prune-freq=1_prune-delay=0_outer-layer-pruning=1_prune-to=10_rewind-to=0_train-scheme=DefaultTrainer_seed=4567/models/Conv6_finished.pickle'\n",
    "# path = '/nfs/students/ayle/guided-research/results/Conv6/2021-07-15_19.25.40_model=Conv6_dataset=CIFAR10_prune-criterion=EmptyCrit_pruning-limit=0.0_prune-freq=1_prune-delay=0_outer-layer-pruning=1_prune-to=10_rewind-to=0_train-scheme=DefaultTrainer_seed=4567/models/Conv6_finished.pickle'\n",
    "\n",
    "# path = '/nfs/students/ayle/guided-research/results/LeNet5/2021-07-11_03.10.29_model=LeNet5_dataset=FASHION_prune-criterion=EmptyCrit_pruning-limit=0.0_prune-freq=1_prune-delay=0_outer-layer-pruning=1_prune-to=10_rewind-to=0_train-scheme=DefaultTrainer_seed=1234/models/LeNet5_finished.pickle'\n",
    "\n",
    "# path = '/nfs/students/ayle/guided-research/results/ResNet18/2021-07-13_11.03.15_model=ResNet18_dataset=CIFAR10_prune-criterion=EmptyCrit_pruning-limit=0.0_prune-freq=1_prune-delay=0_outer-layer-pruning=1_prune-to=10_rewind-to=0_train-scheme=DefaultTrainer_seed=1234/models/ResNet18_finished.pickle'\n",
    "\n",
    "path = '/nfs/students/ayle/guided-research/results/ResNet18/2021-07-26_22.46.19_model=ResNet18_dataset=CIFAR10_prune-criterion=EmptyCrit_pruning-limit=0.0_prune-freq=1_prune-delay=0_outer-layer-pruning=1_prune-to=10_rewind-to=0_train-scheme=DefaultTrainer_seed=1234/models/ResNet18_finished.pickle'\n",
    "# path= '/nfs/students/ayle/guided-research/results/ResNet18/2021-07-26_23.33.17_model=ResNet18_dataset=CIFAR10_prune-criterion=EmptyCrit_pruning-limit=0.0_prune-freq=1_prune-delay=0_outer-layer-pruning=1_prune-to=10_rewind-to=0_train-scheme=DefaultTrainer_seed=2345/models/ResNet18_finished.pickle'\n",
    "# path = '/nfs/homedirs/ayle/guided-research/SNIP-it/gitignored/results/ResNet18/2021-07-26_23.35.18_model=ResNet18_dataset=CIFAR10_prune-criterion=EmptyCrit_pruning-limit=0.0_prune-freq=1_prune-delay=0_outer-layer-pruning=1_prune-to=10_rewind-to=0_train-scheme=DefaultTrainer_seed=3456/models/ResNet18_finished.pickle'\n",
    "# path = '/nfs/homedirs/ayle/guided-research/SNIP-it/gitignored/results/ResNet18/2021-07-26_23.35.46_model=ResNet18_dataset=CIFAR10_prune-criterion=EmptyCrit_pruning-limit=0.0_prune-freq=1_prune-delay=0_outer-layer-pruning=1_prune-to=10_rewind-to=0_train-scheme=DefaultTrainer_seed=4567/models/ResNet18_finished.pickle'\n",
    "# path = '/nfs/homedirs/ayle/guided-research/SNIP-it/gitignored/results/ResNet18/2021-07-26_23.36.23_model=ResNet18_dataset=CIFAR10_prune-criterion=EmptyCrit_pruning-limit=0.0_prune-freq=1_prune-delay=0_outer-layer-pruning=1_prune-to=10_rewind-to=0_train-scheme=DefaultTrainer_seed=5678/models/ResNet18_finished.pickle'\n",
    "\n",
    "# path = '/nfs/homedirs/ayle/guided-research/SNIP-it/gitignored/results/VGG16/2021-08-22_11.02.10_model=VGG16_dataset=CIFAR10_prune-criterion=EmptyCrit_pruning-limit=0.0_prune-freq=1_prune-delay=0_outer-layer-pruning=1_prune-to=10_rewind-to=0_train-scheme=DefaultTrainer_seed=1234/models/VGG16_finished.pickle'\n",
    "\n",
    "# path = '/nfs/homedirs/ayle/guided-research/SNIP-it/gitignored/results/tmp/2021-08-29_20.40.13_model=ResNet18_dataset=CIFAR10_ood-dataset=SVHN_attack=FGSM_epsilon=8_prune-criterion=HYDRA_pruning-limit=0.5_prune-freq=1_prune-delay=0_rewind-to=0_train-scheme=DefaultTrainer_seed=1234/models/ResNet18_finished.pickle'\n",
    "\n",
    "load_checkpoint(path, model, out)"
   ]
  },
  {
   "cell_type": "code",
   "execution_count": null,
   "metadata": {
    "scrolled": true
   },
   "outputs": [],
   "source": [
    "device = arguments['device']"
   ]
  },
  {
   "cell_type": "code",
   "execution_count": null,
   "metadata": {},
   "outputs": [],
   "source": [
    "# get criterion\n",
    "criterion = find_right_model(\n",
    "    CRITERION_DIR, arguments['prune_criterion'],\n",
    "    model=model,\n",
    "    limit=arguments['pruning_limit'],\n",
    "    start=0.5,\n",
    "    steps=arguments['snip_steps'],\n",
    "    device=arguments['device'],\n",
    "    arguments=arguments\n",
    ")\n",
    "\n",
    "# load data\n",
    "train_loader, test_loader = find_right_model(\n",
    "    DATASETS, arguments['data_set'],\n",
    "    arguments=arguments\n",
    ")\n",
    "\n",
    "# load OOD data\n",
    "_, ood_loader = find_right_model(\n",
    "    DATASETS, arguments['ood_data_set'],\n",
    "    arguments=arguments\n",
    ")"
   ]
  },
  {
   "cell_type": "code",
   "execution_count": null,
   "metadata": {
    "scrolled": true
   },
   "outputs": [],
   "source": [
    "# load OOD data\n",
    "ood_prune_loader, _ = find_right_model(\n",
    "    DATASETS, arguments['ood_data_set_prune'],\n",
    "    arguments=arguments\n",
    ")\n",
    "\n",
    "# get loss function\n",
    "loss = find_right_model(\n",
    "    LOSS_DIR, arguments['loss'],\n",
    "    device=device,\n",
    "    l1_reg=arguments['l1_reg'],\n",
    "    lp_reg=arguments['lp_reg'],\n",
    "    l0_reg=arguments['l0_reg'],\n",
    "    hoyer_reg=arguments['hoyer_reg']\n",
    ")\n",
    "\n",
    "# get optimizer\n",
    "optimizer = find_right_model(\n",
    "    OPTIMS, arguments['optimizer'],\n",
    "    params=model.parameters(),\n",
    "    lr=arguments['learning_rate'],\n",
    "    weight_decay=arguments['l2_reg'] if not arguments['l0'] else 0\n",
    ")\n",
    "\n",
    "run_name = f'_model={arguments[\"model\"]}_dataset={arguments[\"data_set\"]}_prune-criterion={arguments[\"prune_criterion\"]}' + \\\n",
    "            f'_pruning-limit={arguments[\"pruning_limit\"]}_train-scheme={arguments[\"train_scheme\"]}_seed={arguments[\"seed\"]}'\n",
    "\n",
    "# build trainer\n",
    "trainer = find_right_model(\n",
    "    TRAINERS_DIR, arguments['train_scheme'],\n",
    "    model=model,\n",
    "    loss=loss,\n",
    "    optimizer=optimizer,\n",
    "    device=device,\n",
    "    arguments=arguments,\n",
    "    train_loader=train_loader,\n",
    "    test_loader=test_loader,\n",
    "    ood_loader=ood_loader,\n",
    "    ood_prune_loader=ood_prune_loader,\n",
    "    metrics=metrics,\n",
    "    criterion=criterion,\n",
    "    run_name=run_name\n",
    ")\n",
    "\n",
    "trainer.train()"
   ]
  },
  {
   "cell_type": "code",
   "execution_count": null,
   "metadata": {},
   "outputs": [],
   "source": [
    "results = {}"
   ]
  },
  {
   "cell_type": "code",
   "execution_count": null,
   "metadata": {},
   "outputs": [],
   "source": [
    "# results = {'train_acc': trainer.train_acc, 'sparsity': trainer.sparsity, 'filename': DATA_MANAGER.stamp}\n",
    "\n",
    "# if arguments['get_hooks']:\n",
    "#     results['cka'] = trainer.cka_mean"
   ]
  },
  {
   "cell_type": "code",
   "execution_count": null,
   "metadata": {},
   "outputs": [],
   "source": [
    "# model = trainer._model.eval()"
   ]
  },
  {
   "cell_type": "code",
   "execution_count": null,
   "metadata": {},
   "outputs": [],
   "source": [
    "model = model.eval()"
   ]
  },
  {
   "cell_type": "code",
   "execution_count": null,
   "metadata": {},
   "outputs": [],
   "source": [
    "# In-distribution evaluation\n",
    "in_tester = find_right_model(\n",
    "    TESTERS_DIR, 'InEvaluation',\n",
    "    test_loader=test_loader,\n",
    "    device=device,\n",
    "    model=model\n",
    ")\n",
    "in_res, true_labels, all_preds, entropies = in_tester.evaluate()\n",
    "for key, value in in_res.items():\n",
    "    results[key] = value"
   ]
  },
  {
   "cell_type": "code",
   "execution_count": null,
   "metadata": {},
   "outputs": [],
   "source": [
    "results"
   ]
  },
  {
   "cell_type": "code",
   "execution_count": null,
   "metadata": {},
   "outputs": [],
   "source": [
    "# Adversarial evaluation\n",
    "for attack in arguments['eval_attacks']:\n",
    "    for epsilon in arguments['eval_epsilons']:\n",
    "        out(\"Attack {}\".format(attack))\n",
    "        # load data\n",
    "        (_, un_test_loader), mean, std = find_right_model(\n",
    "            DATASETS, arguments['data_set'] + '_unnormalized',\n",
    "            arguments=arguments\n",
    "        )\n",
    "        # build tester\n",
    "        tester = find_right_model(\n",
    "            TESTERS_DIR, 'AdversarialEvaluation',\n",
    "            attack=attack,\n",
    "            model=model,\n",
    "            device=device,\n",
    "            test_loader=un_test_loader,\n",
    "            mean=mean,\n",
    "            std=std\n",
    "        )\n",
    "        res = tester.evaluate(epsilon=epsilon, true_labels=deepcopy(true_labels), all_preds=deepcopy(all_preds),\n",
    "                                  entropies=deepcopy(entropies))\n",
    "        for key, value in res.items():\n",
    "            results[key] = value"
   ]
  },
  {
   "cell_type": "code",
   "execution_count": null,
   "metadata": {},
   "outputs": [],
   "source": [
    "# OOD Evaluation\n",
    "with torch.no_grad():\n",
    "    for ood_data_set in arguments['eval_ood_data_sets']:\n",
    "        out(\"OOD Dataset: {}\".format(ood_data_set))\n",
    "\n",
    "        # load OOD data\n",
    "        _, ood_loader = find_right_model(\n",
    "            DATASETS, ood_data_set,\n",
    "            arguments=arguments\n",
    "        )\n",
    "        # build tester\n",
    "        tester = find_right_model(\n",
    "            TESTERS_DIR, 'OODEvaluation',\n",
    "            model=model,\n",
    "            device=device,\n",
    "            ood_loader=ood_loader,\n",
    "            ood_dataset=ood_data_set\n",
    "        )\n",
    "        res = tester.evaluate(true_labels=deepcopy(true_labels), all_preds=deepcopy(all_preds),\n",
    "                              entropies=deepcopy(entropies))\n",
    "\n",
    "        for key, value in res.items():\n",
    "            results[key] = value"
   ]
  },
  {
   "cell_type": "code",
   "execution_count": null,
   "metadata": {
    "scrolled": true
   },
   "outputs": [],
   "source": [
    "# DS Evaluation\n",
    "with torch.no_grad():\n",
    "    if arguments[\"data_set\"] == \"CIFAR10\":\n",
    "        avg_acc = [[] for _ in range(5)]\n",
    "        avg_entropy = [[] for _ in range(5)]\n",
    "        avg_auroc = [[] for _ in range(5)]\n",
    "        avg_aupr = [[] for _ in range(5)]\n",
    "        avg_auroc_ent = [[] for _ in range(5)]\n",
    "        avg_aupr_ent = [[] for _ in range(5)]\n",
    "\n",
    "        ds_path = os.path.join(DATASET_PATH, \"cifar10_corrupted\")\n",
    "\n",
    "        for ds_dataset_name in os.listdir(ds_path):\n",
    "            # Get corruption loader\n",
    "            npz_dataset = np.load(os.path.join(ds_path, ds_dataset_name))\n",
    "            ds_dataset = CIFAR10C(npz_dataset[\"images\"], npz_dataset[\"labels\"])\n",
    "            ds_loader = torch.utils.data.DataLoader(\n",
    "                ds_dataset,\n",
    "                batch_size=arguments['batch_size'],\n",
    "                shuffle=False,\n",
    "                pin_memory=True,\n",
    "                num_workers=4\n",
    "            )\n",
    "\n",
    "            # build tester\n",
    "            tester = find_right_model(\n",
    "                TESTERS_DIR, 'DSEvaluation',\n",
    "                model=model,\n",
    "                device=device,\n",
    "                ds_loader=ds_loader,\n",
    "                ds_dataset=ds_dataset_name.split('.')[0]\n",
    "            )\n",
    "            res = tester.evaluate(true_labels=deepcopy(true_labels), all_preds=deepcopy(all_preds),\n",
    "                                  entropies=deepcopy(entropies))\n",
    "\n",
    "            severity = int(ds_dataset_name.split('.')[0].split('_')[-1]) - 1\n",
    "            for key, value in res.items():\n",
    "                if key.startswith('acc'):\n",
    "                    avg_acc[severity].append(value)\n",
    "                elif key.startswith('auroc_entropy'):\n",
    "                    avg_auroc_ent[severity].append(value)\n",
    "                elif key.startswith('aupr_entropy'):\n",
    "                    avg_aupr_ent[severity].append(value)\n",
    "                elif key.startswith('auroc'):\n",
    "                    avg_auroc[severity].append(value)\n",
    "                elif key.startswith('aupr'):\n",
    "                    avg_aupr[severity].append(value)\n",
    "                elif key.startswith('entropy_'):\n",
    "                    avg_entropy[severity].append(value)\n",
    "\n",
    "                results[key] = value\n",
    "\n",
    "        avg_acc = [np.mean(acc) for acc in avg_acc]\n",
    "        avg_auroc_ent = [np.mean(auroc_ent) for auroc_ent in avg_auroc_ent]\n",
    "        avg_aupr_ent = [np.mean(aupr_ent) for aupr_ent in avg_aupr_ent]\n",
    "        avg_auroc = [np.mean(auroc) for auroc in avg_auroc]\n",
    "        avg_aupr = [np.mean(aupr) for aupr in avg_aupr]\n",
    "        avg_entropy = [np.mean(entropy) for entropy in avg_entropy]\n",
    "\n",
    "        for i in range(len(avg_acc)):\n",
    "            name = 'avg_acc_' + str(i + 1)\n",
    "            results[name] = avg_acc[i]\n",
    "        for i in range(len(avg_acc)):\n",
    "            name = 'avg_auroc_ent_' + str(i + 1)\n",
    "            results[name] = avg_auroc_ent[i]\n",
    "        for i in range(len(avg_acc)):\n",
    "            name = 'avg_aupr_ent_' + str(i + 1)\n",
    "            results[name] = avg_aupr_ent[i]\n",
    "        for i in range(len(avg_acc)):\n",
    "            name = 'avg_auroc_' + str(i + 1)\n",
    "            results[name] = avg_auroc[i]\n",
    "        for i in range(len(avg_acc)):\n",
    "            name = 'avg_aupr_' + str(i + 1)\n",
    "            results[name] = avg_aupr[i]\n",
    "        for i in range(len(avg_acc)):\n",
    "            name = 'avg_entropy_' + str(i + 1)\n",
    "            results[name] = avg_entropy[i]\n",
    "            \n",
    "        results['avg_acc_cifar10c'] = np.mean(avg_acc)\n",
    "        results['avg_auroc_ent_cifar10c'] = np.mean(avg_auroc_ent)\n",
    "        results['avg_aupr_ent_cifar10c'] = np.mean(avg_aupr_ent)\n",
    "        results['avg_auroc_cifar10c'] = np.mean(avg_auroc)\n",
    "        results['avg_aupr_cifar10c'] = np.mean(avg_aupr)\n",
    "        results['avg_entropy_cifar10c'] = np.mean(avg_entropy)"
   ]
  },
  {
   "cell_type": "code",
   "execution_count": null,
   "metadata": {},
   "outputs": [],
   "source": [
    "# Compute Lipschitz constant\n",
    "# Don't compute gradient for the projector: speedup computations\n",
    "for p in model.parameters():\n",
    "    p.requires_grad = False\n",
    "\n",
    "# Compute input sizes for all modules of the model\n",
    "for img, target in train_loader:\n",
    "    input_size = torch.unsqueeze(img[0], 0).size()\n",
    "    break\n",
    "compute_module_input_sizes(model, input_size)\n",
    "lip_spec = lipschitz_spectral_ub(model).data[0]\n",
    "results['lip_spec'] = lip_spec"
   ]
  },
  {
   "cell_type": "code",
   "execution_count": null,
   "metadata": {},
   "outputs": [],
   "source": [
    "results"
   ]
  },
  {
   "cell_type": "code",
   "execution_count": null,
   "metadata": {},
   "outputs": [],
   "source": [
    "{'conf_auroc': 0.9038030765744544,\n",
    " 'conf_aupr': 0.9880579483957419,\n",
    " 'brier_score': 0.15175232,\n",
    " 'entropy': 0.11069129356792423,\n",
    " 'test_acc': 0.8981732536764706,\n",
    " 'nll': 0.051313102,\n",
    " 'ece': 0.06048275798260375,\n",
    " 'adv_acc_FGSM_8': 0.2840360753676471,\n",
    " 'auroc_FGSM_8': 0.79449435,\n",
    " 'aupr_FGSM_8': 0.8141732295331379,\n",
    " 'entropy_FGSM_8': 0.39369657295185173,\n",
    " 'auroc_entropy_FGSM_8': 0.7989064750000001,\n",
    " 'aupr_entropy_FGSM_8': 0.7630723470931419,\n",
    " 'adv_acc_FGSM_48': 0.12536764705882353,\n",
    " 'auroc_FGSM_48': 0.9501618250000001,\n",
    " 'aupr_FGSM_48': 0.9650241227229271,\n",
    " 'entropy_FGSM_48': 0.9031542729180481,\n",
    " 'auroc_entropy_FGSM_48': 0.96195413,\n",
    " 'aupr_entropy_FGSM_48': 0.9370315373586908}\n"
   ]
  }
 ],
 "metadata": {
  "kernelspec": {
   "display_name": "Python 3",
   "language": "python",
   "name": "python3"
  },
  "language_info": {
   "codemirror_mode": {
    "name": "ipython",
    "version": 3
   },
   "file_extension": ".py",
   "mimetype": "text/x-python",
   "name": "python",
   "nbconvert_exporter": "python",
   "pygments_lexer": "ipython3",
   "version": "3.8.5"
  }
 },
 "nbformat": 4,
 "nbformat_minor": 4
}
